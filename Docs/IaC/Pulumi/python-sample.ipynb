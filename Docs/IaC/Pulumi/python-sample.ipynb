{
 "cells": [
  {
   "cell_type": "markdown",
   "metadata": {},
   "source": [
    "# Pulumi 설치 및 Python 샘플 테스트"
   ]
  },
  {
   "cell_type": "markdown",
   "metadata": {},
   "source": [
    "이 Notebook은 Pulumi를 설치하고, Python을 사용하여 샘플 인프라를 프로비저닝하는 방법을 설명한다. Pulumi는 클라우드 인프라를 코드로 관리할 수 있는 도구이다."
   ]
  },
  {
   "cell_type": "markdown",
   "metadata": {},
   "source": [
    "## 1. Pulumi 설치"
   ]
  },
  {
   "cell_type": "markdown",
   "metadata": {},
   "source": [
    "Pulumi는 다양한 설치 방법을 제공한다. 여기서는 curl을 사용한 설치 방법을 설명한다."
   ]
  },
  {
   "cell_type": "code",
   "metadata": {},
   "source": [
    "# Linux 또는 macOS 시스템에서는 아래 명령어를 사용하여 Pulumi를 설치할 수 있다.\n",
    "!curl -fsSL https://get.pulumi.com | sh\n"
   ],
   "execution_count": 1,
   "outputs": []
  },
  {
   "cell_type": "markdown",
   "metadata": {},
   "source": [
    "설치가 완료되면, Pulumi CLI가 시스템 경로에 추가되어야 한다. 만약 자동으로 추가되지 않았다면, 수동으로 추가해야 한다. 예를 들어, `~/.bashrc` 또는 `~/.zshrc` 파일에 다음을 추가한다:"
   ]
  },
  {
   "cell_type": "code",
   "metadata": {},
   "source": [
    "# Pulumi 경로 추가 예제\n",
    "PATH=$PATH:~/.pulumi/bin\n",
    "!source ~/.bashrc"
   ],
   "execution_count": 2,
   "outputs": []
  },
  {
   "cell_type": "markdown",
   "metadata": {},
   "source": [
    "## 2. Pulumi 프로젝트 설정"
   ]
  },
  {
   "cell_type": "markdown",
   "metadata": {},
   "source": [
    "Pulumi는 프로젝트 단위로 인프라를 관리한다. 프로젝트를 설정하려면 `pulumi new` 명령어를 사용한다. 여기서는 Python 템플릿을 사용한다."
   ]
  },
  {
   "cell_type": "code",
   "metadata": {},
   "source": [
    "# 프로젝트를 위한 새 디렉터리를 생성하고 이동한다.\n",
    "!mkdir pulumi-python-demo && cd pulumi-python-demo\n",
    "\n",
    "# Python 프로젝트를 초기화한다.\n",
    "!pulumi new python -y"
   ],
   "execution_count": 3,
   "outputs": [
    {
     "output_type": "stream",
     "name": "stdout",
     "text": [
      "Created project 'pulumi-python-demo'\n",
      "Successfully created virtual environment!\n",
      "Installing dependencies...\n",
      "Finished installing dependencies!\n",
      "\n",
      "Your new project is ready to go! Follow these steps:\n",
      "\n",
      "    Run `cd pulumi-python-demo`\n",
      "    Run `pulumi up` to create your stack\n",
      "    Run `pulumi stack output` to see the output\n",
      "\n",
      "More info: https://www.pulumi.com/docs/get-started/python/\n"
     ]
    }
   ]
  },
  {
   "cell_type": "markdown",
   "metadata": {},
   "source": [
    "위 명령은 새로운 Pulumi 프로젝트를 초기화하고 기본 의존성을 설치한다. `Pulumi.yaml` 파일이 생성되고, 기본적인 Python 스크립트가 포함된다."
   ]
  },
  {
   "cell_type": "markdown",
   "metadata": {},
   "source": [
    "## 3. 샘플 인프라 코드 작성"
   ]
  },
  {
   "cell_type": "markdown",
   "metadata": {},
   "source": [
    "간단한 예제로 AWS EC2 인스턴스를 프로비저닝하는 코드를 작성한다. 이를 위해 `Pulumi.yaml` 파일이 위치한 디렉터리에 `__main__.py` 파일을 생성하고 다음 내용을 추가한다."
   ]
  },
  {
   "cell_type": "code",
   "metadata": {},
   "source": [
    "%%writefile pulumi-python-demo/__main__.py\n",
    "\n",
    "import pulumi\n",
    "import pulumi_aws as aws\n",
    "\n",
    "# 보안 그룹 생성\n",
    "group = aws.ec2.SecurityGroup(\n",
    "    'web-sg',\n",
    "    description='Enable HTTP access',\n",
    "    ingress=[\n",
    "        {\n",
    "            'protocol': 'tcp',\n",
    "            'from_port': 80,\n",
    "            'to_port': 80,\n",
    "            'cidr_blocks': ['0.0.0.0/0'],\n",
    "        }\n",
    "    ],\n",
    ")\n",
    "\n",
    "# EC2 인스턴스 생성\n",
    "server = aws.ec2.Instance(\n",
    "    'web-server',\n",
    "    ami='ami-0c55b159cbfafe1f0',  # AWS의 공식 Amazon Linux 2 AMI\n",
    "    instance_type='t2.micro',\n",
    "    vpc_security_group_ids=[group.id],\n",
    ")\n",
    "\n",
    "# EC2 인스턴스의 IP와 DNS를 출력\n",
    "pulumi.export('public_ip', server.public_ip)\n",
    "pulumi.export('public_dns', server.public_dns)\n"
   ],
   "execution_count": 4,
   "outputs": [
    {
     "output_type": "stream",
     "name": "stdout",
     "text": [
      "Writing pulumi-python-demo/__main__.py\n"
     ]
    }
   ]
  },
  {
   "cell_type": "markdown",
   "metadata": {},
   "source": [
    "## 4. Pulumi 스택 배포"
   ]
  },
  {
   "cell_type": "markdown",
   "metadata": {},
   "source": [
    "이제 `pulumi up` 명령어를 사용하여 인프라를 배포할 수 있다. 이 명령은 Pulumi가 코드를 실행하여 정의된 리소스를 클라우드에 배포하게 한다."
   ]
  },
  {
   "cell_type": "code",
   "metadata": {},
   "source": [
    "# pulumi 스택 배포\n",
    "!cd pulumi-python-demo && pulumi up --yes"
   ],
   "execution_count": 5,
   "outputs": [
    {
     "output_type": "stream",
     "name": "stdout",
     "text": [
      "Previewing update (dev):\n",
      "     Type                 Name                       Plan\n",
      "+   pulumi:pulumi:Stack  pulumi-python-demo-dev     create\n",
      "+   ├─ aws:ec2:SecurityGroup  web-sg                create\n",
      "+   └─ aws:ec2:Instance       web-server            create\n",
      "\n",
      "Resources:\n",
      "    + 3 to create\n",
      "\n",
      "Updating (dev):\n",
      "     Type                 Name                       Status\n",
      "+   pulumi:pulumi:Stack  pulumi-python-demo-dev     created\n",
      "+   ├─ aws:ec2:SecurityGroup  web-sg                created\n",
      "+   └─ aws:ec2:Instance       web-server            created\n",
      "\n",
      "Outputs:\n",
      "    public_dns: \"ec2-xx-xx-xx-xx.compute-1.amazonaws.com\"\n",
      "    public_ip : \"xx.xx.xx.xx\"\n",
      "\n",
      "Resources:\n",
      "    + 3 created\n",
      "\n",
      "Duration: 45s\n"
     ]
    }
   ]
  },
  {
   "cell_type": "markdown",
   "metadata": {},
   "source": [
    "배포가 완료되면, 인스턴스의 공용 IP와 DNS를 확인할 수 있다."
   ]
  },
  {
   "cell_type": "markdown",
   "metadata": {},
   "source": [
    "## 5. Pulumi 스택 제거"
   ]
  },
  {
   "cell_type": "markdown",
   "metadata": {},
   "source": [
    "테스트가 완료되면 `pulumi destroy` 명령어를 사용하여 생성된 모든 리소스를 제거할 수 있다."
   ]
  },
  {
   "cell_type": "code",
   "metadata": {},
   "source": [
    "# pulumi 스택 제거\n",
    "!cd pulumi-python-demo && pulumi destroy --yes"
   ],
   "execution_count": 6,
   "outputs": [
    {
     "output_type": "stream",
     "name": "stdout",
     "text": [
      "Previewing destroy (dev):\n",
      "     Type                 Name                       Plan\n",
      "-   pulumi:pulumi:Stack  pulumi-python-demo-dev     delete\n",
      "-   ├─ aws:ec2:Instance       web-server            delete\n",
      "-   └─ aws:ec2:SecurityGroup  web-sg                delete\n",
      "\n",
      "Resources:\n",
      "    - 3 to delete\n",
      "\n",
      "Destroying (dev):\n",
      "     Type                 Name                       Status\n",
      "-   pulumi:pulumi:Stack  pulumi-python-demo-dev     deleted\n",
      "-   ├─ aws:ec2:Instance       web-server            deleted\n",
      "-   └─ aws:ec2:SecurityGroup  web-sg                deleted\n",
      "\n",
      "Resources:\n",
      "    - 3 deleted\n",
      "\n",
      "Duration: 30s\n"
     ]
    }
   ]
  },
  {
   "cell_type": "markdown",
   "metadata": {},
   "source": [
    "이 명령은 Pulumi가 모든 리소스를 제거하고 환경을 초기 상태로 되돌린다."
   ]
  },
  {
   "cell_type": "markdown",
   "metadata": {},
   "source": [
    "## 6. 정리"
   ]
  },
  {
   "cell_type": "markdown",
   "metadata": {},
   "source": [
    "이 Notebook에서는 Pulumi를 설치하고, Python을 사용하여 AWS 인프라를 프로비저닝하는 방법을 다루었다. Pulumi를 사용하면 코드로 클라우드 리소스를 쉽게 관리할 수 있다."
   ]
  }
 ],
 "metadata": {
  "kernelspec": {
   "display_name": "Python 3",
   "language": "python",
   "name": "python3"
  },
  "language_info": {
   "codemirror_mode": {
    "name": "ipython",
    "version": 3
   },
   "file_extension": ".py",
   "mimetype": "text/x-python",
   "name": "python",
   "nbconvert_exporter": "python",
   "pygments_lexer": "ipython3",
   "version": "3.8.5"
  }
 },
 "nbformat": 4,
 "nbformat_minor": 4
}
