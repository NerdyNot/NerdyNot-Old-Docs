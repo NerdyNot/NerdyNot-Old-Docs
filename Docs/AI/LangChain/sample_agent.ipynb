{
 "cells": [
  {
   "cell_type": "markdown",
   "metadata": {},
   "source": [
    "# Agent 구축 샘플\n",
    "Langchain 주요 사용 기법인 에이전트 구축을 기술한다."
   ]
  },
  {
   "cell_type": "markdown",
   "metadata": {},
   "source": [
    "## 라이브러리 설치\n",
    "Langchain 사용을 위한 필수 라이브러리를 설치한다."
   ]
  },
  {
   "cell_type": "code",
   "execution_count": 7,
   "metadata": {},
   "outputs": [
    {
     "name": "stdout",
     "output_type": "stream",
     "text": [
      "Requirement already satisfied: langchain in c:\\users\\강영인\\appdata\\local\\programs\\python\\python310\\lib\\site-packages (0.2.5)\n",
      "Collecting langchain-openai\n",
      "  Downloading langchain_openai-0.1.8-py3-none-any.whl (38 kB)\n",
      "Requirement already satisfied: langchain-community in c:\\users\\강영인\\appdata\\local\\programs\\python\\python310\\lib\\site-packages (0.2.5)\n",
      "Requirement already satisfied: langgraph in c:\\users\\강영인\\appdata\\local\\programs\\python\\python310\\lib\\site-packages (0.0.69)\n",
      "Requirement already satisfied: langchain-anthropic in c:\\users\\강영인\\appdata\\local\\programs\\python\\python310\\lib\\site-packages (0.1.15)\n",
      "Requirement already satisfied: tavily-python in c:\\users\\강영인\\appdata\\local\\programs\\python\\python310\\lib\\site-packages (0.3.3)\n",
      "Requirement already satisfied: tenacity<9.0.0,>=8.1.0 in c:\\users\\강영인\\appdata\\local\\programs\\python\\python310\\lib\\site-packages (from langchain) (8.2.3)\n",
      "Requirement already satisfied: numpy<2,>=1 in c:\\users\\강영인\\appdata\\local\\programs\\python\\python310\\lib\\site-packages (from langchain) (1.26.2)\n",
      "Requirement already satisfied: SQLAlchemy<3,>=1.4 in c:\\users\\강영인\\appdata\\local\\programs\\python\\python310\\lib\\site-packages (from langchain) (1.4.51)\n",
      "Requirement already satisfied: langchain-text-splitters<0.3.0,>=0.2.0 in c:\\users\\강영인\\appdata\\local\\programs\\python\\python310\\lib\\site-packages (from langchain) (0.2.1)\n",
      "Requirement already satisfied: pydantic<3,>=1 in c:\\users\\강영인\\appdata\\local\\programs\\python\\python310\\lib\\site-packages (from langchain) (2.5.2)\n",
      "Requirement already satisfied: requests<3,>=2 in c:\\users\\강영인\\appdata\\local\\programs\\python\\python310\\lib\\site-packages (from langchain) (2.31.0)\n",
      "Requirement already satisfied: aiohttp<4.0.0,>=3.8.3 in c:\\users\\강영인\\appdata\\local\\programs\\python\\python310\\lib\\site-packages (from langchain) (3.8.5)\n",
      "Requirement already satisfied: langchain-core<0.3.0,>=0.2.7 in c:\\users\\강영인\\appdata\\local\\programs\\python\\python310\\lib\\site-packages (from langchain) (0.2.8)\n",
      "Requirement already satisfied: PyYAML>=5.3 in c:\\users\\강영인\\appdata\\local\\programs\\python\\python310\\lib\\site-packages (from langchain) (6.0.1)\n",
      "Requirement already satisfied: langsmith<0.2.0,>=0.1.17 in c:\\users\\강영인\\appdata\\local\\programs\\python\\python310\\lib\\site-packages (from langchain) (0.1.79)\n",
      "Requirement already satisfied: async-timeout<5.0.0,>=4.0.0 in c:\\users\\강영인\\appdata\\local\\programs\\python\\python310\\lib\\site-packages (from langchain) (4.0.3)\n",
      "Requirement already satisfied: tiktoken<1,>=0.7 in c:\\users\\강영인\\appdata\\local\\programs\\python\\python310\\lib\\site-packages (from langchain-openai) (0.7.0)\n",
      "Requirement already satisfied: openai<2.0.0,>=1.26.0 in c:\\users\\강영인\\appdata\\local\\programs\\python\\python310\\lib\\site-packages (from langchain-openai) (1.30.5)\n",
      "Requirement already satisfied: dataclasses-json<0.7,>=0.5.7 in c:\\users\\강영인\\appdata\\local\\programs\\python\\python310\\lib\\site-packages (from langchain-community) (0.6.3)\n",
      "Requirement already satisfied: anthropic<1,>=0.28.0 in c:\\users\\강영인\\appdata\\local\\programs\\python\\python310\\lib\\site-packages (from langchain-anthropic) (0.28.1)\n",
      "Requirement already satisfied: defusedxml<0.8.0,>=0.7.1 in c:\\users\\강영인\\appdata\\local\\programs\\python\\python310\\lib\\site-packages (from langchain-anthropic) (0.7.1)\n",
      "Requirement already satisfied: multidict<7.0,>=4.5 in c:\\users\\강영인\\appdata\\local\\programs\\python\\python310\\lib\\site-packages (from aiohttp<4.0.0,>=3.8.3->langchain) (6.0.4)\n",
      "Requirement already satisfied: attrs>=17.3.0 in c:\\users\\강영인\\appdata\\local\\programs\\python\\python310\\lib\\site-packages (from aiohttp<4.0.0,>=3.8.3->langchain) (23.1.0)\n",
      "Requirement already satisfied: charset-normalizer<4.0,>=2.0 in c:\\users\\강영인\\appdata\\local\\programs\\python\\python310\\lib\\site-packages (from aiohttp<4.0.0,>=3.8.3->langchain) (3.3.2)\n",
      "Requirement already satisfied: yarl<2.0,>=1.0 in c:\\users\\강영인\\appdata\\local\\programs\\python\\python310\\lib\\site-packages (from aiohttp<4.0.0,>=3.8.3->langchain) (1.9.3)\n",
      "Requirement already satisfied: frozenlist>=1.1.1 in c:\\users\\강영인\\appdata\\local\\programs\\python\\python310\\lib\\site-packages (from aiohttp<4.0.0,>=3.8.3->langchain) (1.4.0)\n",
      "Requirement already satisfied: aiosignal>=1.1.2 in c:\\users\\강영인\\appdata\\local\\programs\\python\\python310\\lib\\site-packages (from aiohttp<4.0.0,>=3.8.3->langchain) (1.3.1)\n",
      "Requirement already satisfied: jiter<1,>=0.4.0 in c:\\users\\강영인\\appdata\\local\\programs\\python\\python310\\lib\\site-packages (from anthropic<1,>=0.28.0->langchain-anthropic) (0.4.2)\n",
      "Requirement already satisfied: anyio<5,>=3.5.0 in c:\\users\\강영인\\appdata\\local\\programs\\python\\python310\\lib\\site-packages (from anthropic<1,>=0.28.0->langchain-anthropic) (3.7.1)\n",
      "Requirement already satisfied: httpx<1,>=0.23.0 in c:\\users\\강영인\\appdata\\local\\programs\\python\\python310\\lib\\site-packages (from anthropic<1,>=0.28.0->langchain-anthropic) (0.27.0)\n",
      "Requirement already satisfied: tokenizers>=0.13.0 in c:\\users\\강영인\\appdata\\local\\programs\\python\\python310\\lib\\site-packages (from anthropic<1,>=0.28.0->langchain-anthropic) (0.19.1)\n",
      "Requirement already satisfied: typing-extensions<5,>=4.7 in c:\\users\\강영인\\appdata\\local\\programs\\python\\python310\\lib\\site-packages (from anthropic<1,>=0.28.0->langchain-anthropic) (4.8.0)\n",
      "Requirement already satisfied: sniffio in c:\\users\\강영인\\appdata\\local\\programs\\python\\python310\\lib\\site-packages (from anthropic<1,>=0.28.0->langchain-anthropic) (1.3.0)\n",
      "Requirement already satisfied: distro<2,>=1.7.0 in c:\\users\\강영인\\appdata\\local\\programs\\python\\python310\\lib\\site-packages (from anthropic<1,>=0.28.0->langchain-anthropic) (1.9.0)\n",
      "Requirement already satisfied: marshmallow<4.0.0,>=3.18.0 in c:\\users\\강영인\\appdata\\local\\programs\\python\\python310\\lib\\site-packages (from dataclasses-json<0.7,>=0.5.7->langchain-community) (3.20.1)\n",
      "Requirement already satisfied: typing-inspect<1,>=0.4.0 in c:\\users\\강영인\\appdata\\local\\programs\\python\\python310\\lib\\site-packages (from dataclasses-json<0.7,>=0.5.7->langchain-community) (0.9.0)\n",
      "Requirement already satisfied: packaging<25,>=23.2 in c:\\users\\강영인\\appdata\\roaming\\python\\python310\\site-packages (from langchain-core<0.3.0,>=0.2.7->langchain) (23.2)\n",
      "Requirement already satisfied: jsonpatch<2.0,>=1.33 in c:\\users\\강영인\\appdata\\local\\programs\\python\\python310\\lib\\site-packages (from langchain-core<0.3.0,>=0.2.7->langchain) (1.33)\n",
      "Requirement already satisfied: orjson<4.0.0,>=3.9.14 in c:\\users\\강영인\\appdata\\local\\programs\\python\\python310\\lib\\site-packages (from langsmith<0.2.0,>=0.1.17->langchain) (3.10.5)\n",
      "Requirement already satisfied: tqdm>4 in c:\\users\\강영인\\appdata\\local\\programs\\python\\python310\\lib\\site-packages (from openai<2.0.0,>=1.26.0->langchain-openai) (4.66.1)\n",
      "Requirement already satisfied: annotated-types>=0.4.0 in c:\\users\\강영인\\appdata\\local\\programs\\python\\python310\\lib\\site-packages (from pydantic<3,>=1->langchain) (0.6.0)\n",
      "Requirement already satisfied: pydantic-core==2.14.5 in c:\\users\\강영인\\appdata\\local\\programs\\python\\python310\\lib\\site-packages (from pydantic<3,>=1->langchain) (2.14.5)\n",
      "Requirement already satisfied: certifi>=2017.4.17 in c:\\users\\강영인\\appdata\\local\\programs\\python\\python310\\lib\\site-packages (from requests<3,>=2->langchain) (2023.11.17)\n",
      "Requirement already satisfied: urllib3<3,>=1.21.1 in c:\\users\\강영인\\appdata\\local\\programs\\python\\python310\\lib\\site-packages (from requests<3,>=2->langchain) (1.26.18)\n",
      "Requirement already satisfied: idna<4,>=2.5 in c:\\users\\강영인\\appdata\\local\\programs\\python\\python310\\lib\\site-packages (from requests<3,>=2->langchain) (3.6)\n",
      "Requirement already satisfied: greenlet!=0.4.17 in c:\\users\\강영인\\appdata\\local\\programs\\python\\python310\\lib\\site-packages (from SQLAlchemy<3,>=1.4->langchain) (3.0.1)\n",
      "Requirement already satisfied: regex>=2022.1.18 in c:\\users\\강영인\\appdata\\local\\programs\\python\\python310\\lib\\site-packages (from tiktoken<1,>=0.7->langchain-openai) (2023.10.3)\n",
      "Requirement already satisfied: exceptiongroup in c:\\users\\강영인\\appdata\\roaming\\python\\python310\\site-packages (from anyio<5,>=3.5.0->anthropic<1,>=0.28.0->langchain-anthropic) (1.2.0)\n",
      "Requirement already satisfied: httpcore==1.* in c:\\users\\강영인\\appdata\\local\\programs\\python\\python310\\lib\\site-packages (from httpx<1,>=0.23.0->anthropic<1,>=0.28.0->langchain-anthropic) (1.0.5)\n",
      "Requirement already satisfied: h11<0.15,>=0.13 in c:\\users\\강영인\\appdata\\local\\programs\\python\\python310\\lib\\site-packages (from httpcore==1.*->httpx<1,>=0.23.0->anthropic<1,>=0.28.0->langchain-anthropic) (0.14.0)\n",
      "Requirement already satisfied: jsonpointer>=1.9 in c:\\users\\강영인\\appdata\\local\\programs\\python\\python310\\lib\\site-packages (from jsonpatch<2.0,>=1.33->langchain-core<0.3.0,>=0.2.7->langchain) (2.4)\n",
      "Requirement already satisfied: huggingface-hub<1.0,>=0.16.4 in c:\\users\\강영인\\appdata\\local\\programs\\python\\python310\\lib\\site-packages (from tokenizers>=0.13.0->anthropic<1,>=0.28.0->langchain-anthropic) (0.23.4)\n",
      "Requirement already satisfied: colorama in c:\\users\\강영인\\appdata\\roaming\\python\\python310\\site-packages (from tqdm>4->openai<2.0.0,>=1.26.0->langchain-openai) (0.4.6)\n",
      "Requirement already satisfied: mypy-extensions>=0.3.0 in c:\\users\\강영인\\appdata\\local\\programs\\python\\python310\\lib\\site-packages (from typing-inspect<1,>=0.4.0->dataclasses-json<0.7,>=0.5.7->langchain-community) (1.0.0)\n",
      "Requirement already satisfied: filelock in c:\\users\\강영인\\appdata\\local\\programs\\python\\python310\\lib\\site-packages (from huggingface-hub<1.0,>=0.16.4->tokenizers>=0.13.0->anthropic<1,>=0.28.0->langchain-anthropic) (3.15.1)\n",
      "Requirement already satisfied: fsspec>=2023.5.0 in c:\\users\\강영인\\appdata\\local\\programs\\python\\python310\\lib\\site-packages (from huggingface-hub<1.0,>=0.16.4->tokenizers>=0.13.0->anthropic<1,>=0.28.0->langchain-anthropic) (2024.6.0)\n",
      "Installing collected packages: langchain-openai\n",
      "Successfully installed langchain-openai-0.1.8\n"
     ]
    },
    {
     "name": "stderr",
     "output_type": "stream",
     "text": [
      "\n",
      "[notice] A new release of pip is available: 23.0.1 -> 24.0\n",
      "[notice] To update, run: python.exe -m pip install --upgrade pip\n"
     ]
    }
   ],
   "source": [
    "!pip install langchain langchain-openai langchain-community langgraph langchain-anthropic tavily-python"
   ]
  },
  {
   "cell_type": "markdown",
   "metadata": {},
   "source": [
    "## LangSmith 연동\n",
    "LangSmith를 통해 흐름을 분석하길 원한다면 아래 변수를 설정하여 연동한다."
   ]
  },
  {
   "cell_type": "code",
   "execution_count": 4,
   "metadata": {},
   "outputs": [],
   "source": [
    "import os\n",
    "\n",
    "os.environ[\"LANGCHAIN_TRACING_V2\"] = \"true\"\n",
    "os.environ[\"LANGCHAIN_API_KEY\"] = \"Insert LangSmith API Key\""
   ]
  },
  {
   "cell_type": "markdown",
   "metadata": {},
   "source": [
    "## Tavily\n",
    "검색 엔진 도구로 [Tavily](https://app.tavily.com/home)를 사용하기 위해 API키를 설정한다."
   ]
  },
  {
   "cell_type": "code",
   "execution_count": 5,
   "metadata": {},
   "outputs": [],
   "source": [
    "os.environ[\"TAVILY_API_KEY\"]=\"Insert Tavily API Key\""
   ]
  },
  {
   "cell_type": "markdown",
   "metadata": {},
   "source": [
    "### Tool을 정의합니다.\n",
    "에이전트가 사용할 툴을 생성해야한다. LangChain에 내장되어있는 tavily_search 툴을 사용한다."
   ]
  },
  {
   "cell_type": "code",
   "execution_count": 6,
   "metadata": {},
   "outputs": [
    {
     "name": "stdout",
     "output_type": "stream",
     "text": [
      "[{'url': 'https://www.weatherapi.com/', 'content': \"{'location': {'name': 'San Francisco', 'region': 'California', 'country': 'United States of America', 'lat': 37.78, 'lon': -122.42, 'tz_id': 'America/Los_Angeles', 'localtime_epoch': 1718699929, 'localtime': '2024-06-18 1:38'}, 'current': {'last_updated_epoch': 1718699400, 'last_updated': '2024-06-18 01:30', 'temp_c': 17.2, 'temp_f': 63.0, 'is_day': 0, 'condition': {'text': 'Partly cloudy', 'icon': '//cdn.weatherapi.com/weather/64x64/night/116.png', 'code': 1003}, 'wind_mph': 4.3, 'wind_kph': 6.8, 'wind_degree': 280, 'wind_dir': 'W', 'pressure_mb': 1009.0, 'pressure_in': 29.8, 'precip_mm': 0.0, 'precip_in': 0.0, 'humidity': 70, 'cloud': 25, 'feelslike_c': 17.2, 'feelslike_f': 63.0, 'windchill_c': 11.9, 'windchill_f': 53.4, 'heatindex_c': 12.2, 'heatindex_f': 53.9, 'dewpoint_c': 7.9, 'dewpoint_f': 46.3, 'vis_km': 16.0, 'vis_miles': 9.0, 'uv': 1.0, 'gust_mph': 7.3, 'gust_kph': 11.8}}\"}, {'url': 'https://www.wunderground.com/hourly/us/ca/san-francisco/KCASANFR2002/date/2024-6-18', 'content': 'Current Weather for Popular Cities . San Francisco, CA warning 53 ° F Fair; Manhattan, NY 67 ° F Sunny; Schiller Park, IL (60176) 61 ° F Partly Cloudy; Boston, MA 66 ° F Mostly Cloudy; Houston ...'}]\n"
     ]
    }
   ],
   "source": [
    "from langchain_community.tools.tavily_search import TavilySearchResults\n",
    "\n",
    "search = TavilySearchResults(max_results=2)\n",
    "search_results = search.invoke(\"what is the weather in Seoul\")\n",
    "print(search_results)\n",
    "tools = [search]"
   ]
  },
  {
   "cell_type": "markdown",
   "metadata": {},
   "source": [
    "## LLM 정의\n",
    "LangChain에서 다양한 언어 모델을 지원하지만 여기서는 OpenAI 모델을 사용한다."
   ]
  },
  {
   "cell_type": "code",
   "execution_count": 8,
   "metadata": {},
   "outputs": [],
   "source": [
    "from langchain_openai import ChatOpenAI\n",
    "\n",
    "os.environ[\"OPENAI_API_KEY\"] = \"Insert OpenAI API Key\"\n",
    "model = ChatOpenAI(model=\"gpt-4o\")"
   ]
  },
  {
   "cell_type": "markdown",
   "metadata": {},
   "source": [
    "언어 모델을 호출할 때 메시지 목록을 전달한다."
   ]
  },
  {
   "cell_type": "code",
   "execution_count": 9,
   "metadata": {},
   "outputs": [
    {
     "data": {
      "text/plain": [
       "'Hello! How can I assist you today?'"
      ]
     },
     "execution_count": 9,
     "metadata": {},
     "output_type": "execute_result"
    }
   ],
   "source": [
    "from langchain_core.messages import HumanMessage\n",
    "\n",
    "response = model.invoke([HumanMessage(content=\"hi!\")])\n",
    "response.content"
   ]
  },
  {
   "cell_type": "markdown",
   "metadata": {},
   "source": [
    "`.bind_tools`를 사용하여 언어 모델이 툴에 대한 지식을 갖도록 한다."
   ]
  },
  {
   "cell_type": "code",
   "execution_count": 10,
   "metadata": {},
   "outputs": [],
   "source": [
    "model_with_tools = model.bind_tools(tools)"
   ]
  },
  {
   "cell_type": "markdown",
   "metadata": {},
   "source": [
    "모델을 호출하기 위해 일반 메시지로 호출한다.\n",
    "\n",
    "`content` 필드와 `tool_calls` 필드 모두 확인 가능하다."
   ]
  },
  {
   "cell_type": "code",
   "execution_count": 11,
   "metadata": {},
   "outputs": [
    {
     "name": "stdout",
     "output_type": "stream",
     "text": [
      "ContentString: Hello! How can I assist you today?\n",
      "ToolCalls: []\n"
     ]
    }
   ],
   "source": [
    "response = model_with_tools.invoke([HumanMessage(content=\"Hi!\")])\n",
    "\n",
    "print(f\"ContentString: {response.content}\")\n",
    "print(f\"ToolCalls: {response.tool_calls}\")\n"
   ]
  },
  {
   "cell_type": "markdown",
   "metadata": {},
   "source": [
    "툴 호출이 필요한 입력으로 호출한다."
   ]
  },
  {
   "cell_type": "code",
   "execution_count": 12,
   "metadata": {},
   "outputs": [
    {
     "name": "stdout",
     "output_type": "stream",
     "text": [
      "ContentString: \n",
      "ToolCalls: [{'name': 'tavily_search_results_json', 'args': {'query': 'current weather in San Francisco'}, 'id': 'call_ewXMYMg4borP5KvUzMooSuQE'}]\n"
     ]
    }
   ],
   "source": [
    "response = model_with_tools.invoke([HumanMessage(content=\"What's the weather in Seoul?\")])\n",
    "\n",
    "print(f\"ContentString: {response.content}\")\n",
    "print(f\"ToolCalls: {response.tool_calls}\")"
   ]
  },
  {
   "cell_type": "markdown",
   "metadata": {},
   "source": [
    "## 에이전트 생성\n",
    "툴과 LLM을 정의했으므로 에이전트를 생성할 수 있다.\n",
    "\n",
    "여기서는 [LangGraph](https://langchain-ai.github.io/langgraph/)를 사용하여 에이전트를 구성한다.\n",
    "`LangGraph`를 사용하면 간편하게 로직을 수정할 수 있다."
   ]
  },
  {
   "cell_type": "code",
   "execution_count": 13,
   "metadata": {},
   "outputs": [],
   "source": [
    "from langgraph.prebuilt import create_react_agent\n",
    "\n",
    "agent_executor = create_react_agent(model, tools)"
   ]
  },
  {
   "cell_type": "markdown",
   "metadata": {},
   "source": [
    "## 에이전트 실행\n",
    "에이전트를 실행합니다. 에이전트는 상호작용의 최종 상태를 반환한다."
   ]
  },
  {
   "cell_type": "code",
   "execution_count": 14,
   "metadata": {},
   "outputs": [
    {
     "data": {
      "text/plain": [
       "[HumanMessage(content='hi!', id='ffbd474b-433c-44f2-a4d1-ac5978f473e1'),\n",
       " AIMessage(content='Hello! How can I assist you today?', response_metadata={'token_usage': {'completion_tokens': 10, 'prompt_tokens': 81, 'total_tokens': 91}, 'model_name': 'gpt-4o', 'system_fingerprint': 'fp_f4e629d0a5', 'finish_reason': 'stop', 'logprobs': None}, id='run-909a891c-38e8-46f9-b8c7-22d047cd9f88-0', usage_metadata={'input_tokens': 81, 'output_tokens': 10, 'total_tokens': 91})]"
      ]
     },
     "execution_count": 14,
     "metadata": {},
     "output_type": "execute_result"
    }
   ],
   "source": [
    "# 툴 호출 필요없을 때 응답\n",
    "response = agent_executor.invoke({\"messages\": [HumanMessage(content=\"hi!\")]})\n",
    "\n",
    "response[\"messages\"]"
   ]
  },
  {
   "cell_type": "code",
   "execution_count": 15,
   "metadata": {},
   "outputs": [
    {
     "data": {
      "text/plain": [
       "[HumanMessage(content='whats the weather in sf?', id='fcc72f43-5848-4039-afbb-d60a68388bfa'),\n",
       " AIMessage(content='', additional_kwargs={'tool_calls': [{'id': 'call_EOgOK9XsxWyjcZnMPojAP3cU', 'function': {'arguments': '{\"query\":\"current weather in San Francisco\"}', 'name': 'tavily_search_results_json'}, 'type': 'function'}]}, response_metadata={'token_usage': {'completion_tokens': 22, 'prompt_tokens': 86, 'total_tokens': 108}, 'model_name': 'gpt-4o', 'system_fingerprint': 'fp_f4e629d0a5', 'finish_reason': 'tool_calls', 'logprobs': None}, id='run-d28080a8-6cd2-44be-b948-c97c53805dc5-0', tool_calls=[{'name': 'tavily_search_results_json', 'args': {'query': 'current weather in San Francisco'}, 'id': 'call_EOgOK9XsxWyjcZnMPojAP3cU'}], usage_metadata={'input_tokens': 86, 'output_tokens': 22, 'total_tokens': 108}),\n",
       " ToolMessage(content='[{\"url\": \"https://www.weatherapi.com/\", \"content\": \"{\\'location\\': {\\'name\\': \\'San Francisco\\', \\'region\\': \\'California\\', \\'country\\': \\'United States of America\\', \\'lat\\': 37.78, \\'lon\\': -122.42, \\'tz_id\\': \\'America/Los_Angeles\\', \\'localtime_epoch\\': 1718700400, \\'localtime\\': \\'2024-06-18 1:46\\'}, \\'current\\': {\\'last_updated_epoch\\': 1718700300, \\'last_updated\\': \\'2024-06-18 01:45\\', \\'temp_c\\': 17.2, \\'temp_f\\': 63.0, \\'is_day\\': 0, \\'condition\\': {\\'text\\': \\'Partly cloudy\\', \\'icon\\': \\'//cdn.weatherapi.com/weather/64x64/night/116.png\\', \\'code\\': 1003}, \\'wind_mph\\': 4.3, \\'wind_kph\\': 6.8, \\'wind_degree\\': 280, \\'wind_dir\\': \\'W\\', \\'pressure_mb\\': 1009.0, \\'pressure_in\\': 29.8, \\'precip_mm\\': 0.0, \\'precip_in\\': 0.0, \\'humidity\\': 70, \\'cloud\\': 25, \\'feelslike_c\\': 17.2, \\'feelslike_f\\': 63.0, \\'windchill_c\\': 11.9, \\'windchill_f\\': 53.4, \\'heatindex_c\\': 12.2, \\'heatindex_f\\': 53.9, \\'dewpoint_c\\': 7.9, \\'dewpoint_f\\': 46.3, \\'vis_km\\': 16.0, \\'vis_miles\\': 9.0, \\'uv\\': 1.0, \\'gust_mph\\': 7.3, \\'gust_kph\\': 11.8}}\"}, {\"url\": \"https://www.timeanddate.com/weather/usa/san-francisco/hourly\", \"content\": \"Sun & Moon. Weather Today Weather Hourly 14 Day Forecast Yesterday/Past Weather Climate (Averages) Currently: 52 \\\\u00b0F. Passing clouds. (Weather station: San Francisco International Airport, USA). See more current weather.\"}]', name='tavily_search_results_json', id='afcb2617-0bbd-4506-9f92-b65324fd1d44', tool_call_id='call_EOgOK9XsxWyjcZnMPojAP3cU'),\n",
       " AIMessage(content='The current weather in San Francisco is as follows:\\n- **Temperature**: 17.2°C (63.0°F)\\n- **Condition**: Partly cloudy\\n- **Humidity**: 70%\\n- **Wind**: 4.3 mph (6.8 kph) from the west\\n- **Visibility**: 16 km (9 miles)\\n- **UV Index**: 1\\n\\nFor more details, you can check [this source](https://www.weatherapi.com/) or [this hourly update](https://www.timeanddate.com/weather/usa/san-francisco/hourly).', response_metadata={'token_usage': {'completion_tokens': 128, 'prompt_tokens': 603, 'total_tokens': 731}, 'model_name': 'gpt-4o', 'system_fingerprint': 'fp_f4e629d0a5', 'finish_reason': 'stop', 'logprobs': None}, id='run-2aa05ea3-267b-4448-b061-0760dad1864a-0', usage_metadata={'input_tokens': 603, 'output_tokens': 128, 'total_tokens': 731})]"
      ]
     },
     "execution_count": 15,
     "metadata": {},
     "output_type": "execute_result"
    }
   ],
   "source": [
    "# 툴 호출 필요할 때 응답\n",
    "response = agent_executor.invoke(\n",
    "    {\"messages\": [HumanMessage(content=\"whats the weather in Seoul?\")]}\n",
    ")\n",
    "response[\"messages\"]"
   ]
  },
  {
   "cell_type": "markdown",
   "metadata": {},
   "source": [
    "## 메시지 스트리밍\n",
    "`.invoke`를 사용하여 최종 응답만을 가져오면 에이전트가 여러 단계를 실행할 때 오랜 시간을 기다리게 된다.\n",
    "\n",
    "중간 진행 상황을 표시하여 메시지를 스트리밍 할 수 있다."
   ]
  },
  {
   "cell_type": "code",
   "execution_count": 16,
   "metadata": {},
   "outputs": [
    {
     "name": "stdout",
     "output_type": "stream",
     "text": [
      "{'agent': {'messages': [AIMessage(content='', additional_kwargs={'tool_calls': [{'id': 'call_ZsmaWJjRiWFRAl3150TrfnPb', 'function': {'arguments': '{\"query\":\"current weather in San Francisco\"}', 'name': 'tavily_search_results_json'}, 'type': 'function'}]}, response_metadata={'token_usage': {'completion_tokens': 22, 'prompt_tokens': 86, 'total_tokens': 108}, 'model_name': 'gpt-4o', 'system_fingerprint': 'fp_f4e629d0a5', 'finish_reason': 'tool_calls', 'logprobs': None}, id='run-9a193f9d-d69e-44d9-bc8d-c7b10532b982-0', tool_calls=[{'name': 'tavily_search_results_json', 'args': {'query': 'current weather in San Francisco'}, 'id': 'call_ZsmaWJjRiWFRAl3150TrfnPb'}], usage_metadata={'input_tokens': 86, 'output_tokens': 22, 'total_tokens': 108})]}}\n",
      "----\n",
      "{'tools': {'messages': [ToolMessage(content='[{\"url\": \"https://www.weatherapi.com/\", \"content\": \"{\\'location\\': {\\'name\\': \\'San Francisco\\', \\'region\\': \\'California\\', \\'country\\': \\'United States of America\\', \\'lat\\': 37.78, \\'lon\\': -122.42, \\'tz_id\\': \\'America/Los_Angeles\\', \\'localtime_epoch\\': 1718700624, \\'localtime\\': \\'2024-06-18 1:50\\'}, \\'current\\': {\\'last_updated_epoch\\': 1718700300, \\'last_updated\\': \\'2024-06-18 01:45\\', \\'temp_c\\': 17.2, \\'temp_f\\': 63.0, \\'is_day\\': 0, \\'condition\\': {\\'text\\': \\'Partly cloudy\\', \\'icon\\': \\'//cdn.weatherapi.com/weather/64x64/night/116.png\\', \\'code\\': 1003}, \\'wind_mph\\': 4.3, \\'wind_kph\\': 6.8, \\'wind_degree\\': 280, \\'wind_dir\\': \\'W\\', \\'pressure_mb\\': 1009.0, \\'pressure_in\\': 29.8, \\'precip_mm\\': 0.0, \\'precip_in\\': 0.0, \\'humidity\\': 70, \\'cloud\\': 25, \\'feelslike_c\\': 17.2, \\'feelslike_f\\': 63.0, \\'windchill_c\\': 11.9, \\'windchill_f\\': 53.4, \\'heatindex_c\\': 12.2, \\'heatindex_f\\': 53.9, \\'dewpoint_c\\': 7.9, \\'dewpoint_f\\': 46.3, \\'vis_km\\': 16.0, \\'vis_miles\\': 9.0, \\'uv\\': 1.0, \\'gust_mph\\': 7.3, \\'gust_kph\\': 11.8}}\"}, {\"url\": \"https://www.timeanddate.com/weather/usa/san-francisco/hourly\", \"content\": \"Sun & Moon. Weather Today Weather Hourly 14 Day Forecast Yesterday/Past Weather Climate (Averages) Currently: 52 \\\\u00b0F. Passing clouds. (Weather station: San Francisco International Airport, USA). See more current weather.\"}]', name='tavily_search_results_json', tool_call_id='call_ZsmaWJjRiWFRAl3150TrfnPb')]}}\n",
      "----\n",
      "{'agent': {'messages': [AIMessage(content='The current weather in San Francisco is as follows:\\n\\n- **Temperature:** 17.2°C (63.0°F)\\n- **Condition:** Partly cloudy\\n- **Wind:** 4.3 mph (6.8 kph) from the west\\n- **Humidity:** 70%\\n- **Visibility:** 16.0 km (9.0 miles)\\n- **UV Index:** 1\\n\\n![Weather Icon](https://cdn.weatherapi.com/weather/64x64/night/116.png)\\n\\nFor more details, you can visit [WeatherAPI](https://www.weatherapi.com/) or [Time and Date](https://www.timeanddate.com/weather/usa/san-francisco/hourly).', response_metadata={'token_usage': {'completion_tokens': 146, 'prompt_tokens': 603, 'total_tokens': 749}, 'model_name': 'gpt-4o', 'system_fingerprint': 'fp_f4e629d0a5', 'finish_reason': 'stop', 'logprobs': None}, id='run-92b11ab8-b4f3-4e17-822c-d59e56e1bcaa-0', usage_metadata={'input_tokens': 603, 'output_tokens': 146, 'total_tokens': 749})]}}\n",
      "----\n"
     ]
    }
   ],
   "source": [
    "for chunk in agent_executor.stream(\n",
    "    {\"messages\": [HumanMessage(content=\"whats the weather in Seoul?\")]}\n",
    "):\n",
    "    print(chunk)\n",
    "    print(\"----\")"
   ]
  },
  {
   "cell_type": "markdown",
   "metadata": {},
   "source": [
    "## 토큰 스트리밍\n",
    "메시지를 스트리밍하는 것 외에도 토큰을 스트리밍하는 것도 유용하다.\n",
    "\n",
    "`.astream_events` 메서드를 사용하여 이를 수행할 수 있다."
   ]
  },
  {
   "cell_type": "code",
   "execution_count": 17,
   "metadata": {},
   "outputs": [
    {
     "name": "stderr",
     "output_type": "stream",
     "text": [
      "c:\\Users\\강영인\\AppData\\Local\\Programs\\Python\\Python310\\lib\\site-packages\\langchain_core\\_api\\beta_decorator.py:87: LangChainBetaWarning: This API is in beta and may change in the future.\n",
      "  warn_beta(\n"
     ]
    },
    {
     "name": "stdout",
     "output_type": "stream",
     "text": [
      "--\n",
      "Starting tool: tavily_search_results_json with inputs: {'query': 'current weather in San Francisco'}\n",
      "Done tool: tavily_search_results_json\n",
      "Tool output was: [{'url': 'https://www.weatherapi.com/', 'content': \"{'location': {'name': 'San Francisco', 'region': 'California', 'country': 'United States of America', 'lat': 37.78, 'lon': -122.42, 'tz_id': 'America/Los_Angeles', 'localtime_epoch': 1718700624, 'localtime': '2024-06-18 1:50'}, 'current': {'last_updated_epoch': 1718700300, 'last_updated': '2024-06-18 01:45', 'temp_c': 17.2, 'temp_f': 63.0, 'is_day': 0, 'condition': {'text': 'Partly cloudy', 'icon': '//cdn.weatherapi.com/weather/64x64/night/116.png', 'code': 1003}, 'wind_mph': 4.3, 'wind_kph': 6.8, 'wind_degree': 280, 'wind_dir': 'W', 'pressure_mb': 1009.0, 'pressure_in': 29.8, 'precip_mm': 0.0, 'precip_in': 0.0, 'humidity': 70, 'cloud': 25, 'feelslike_c': 17.2, 'feelslike_f': 63.0, 'windchill_c': 11.9, 'windchill_f': 53.4, 'heatindex_c': 12.2, 'heatindex_f': 53.9, 'dewpoint_c': 7.9, 'dewpoint_f': 46.3, 'vis_km': 16.0, 'vis_miles': 9.0, 'uv': 1.0, 'gust_mph': 7.3, 'gust_kph': 11.8}}\"}, {'url': 'https://www.accuweather.com/en/us/san-francisco/94103/june-weather/347629', 'content': 'Get the monthly weather forecast for San Francisco, CA, including daily high/low, historical averages, to help you plan ahead.'}]\n",
      "--\n",
      "The| current| weather| in| San| Francisco| is| as| follows|:\n",
      "|-| **|Temperature|:**| |17|.|2|°C| (|63|.|0|°F|)\n",
      "|-| **|Condition|:**| Part|ly| cloudy|\n",
      "|-| **|Wind|:**| |4|.|3| mph| (|6|.|8| k|ph|)| from| the| west|\n",
      "|-| **|Humidity|:**| |70|%\n",
      "|-| **|Visibility|:**| |16|.|0| km| (|9|.|0| miles|)\n",
      "|-| **|Pressure|:**| |100|9|.|0| mb| (|29|.|8| in|)\n",
      "|-| **|UV| Index|:**| |1|.|0|\n",
      "\n",
      "|It| feels| like| |17|.|2|°C| (|63|.|0|°F|)| outside|.|"
     ]
    }
   ],
   "source": [
    "async for event in agent_executor.astream_events(\n",
    "    {\"messages\": [HumanMessage(content=\"whats the weather in Seoul?\")]}, version=\"v1\"\n",
    "):\n",
    "    kind = event[\"event\"]\n",
    "    if kind == \"on_chain_start\":\n",
    "        if (\n",
    "            event[\"name\"] == \"Agent\"\n",
    "        ):  # 에이전트를 `.with_config({\"run_name\": \"Agent\"})`로 생성할 때 지정됨\n",
    "            print(\n",
    "                f\"Starting agent: {event['name']} with input: {event['data'].get('input')}\"\n",
    "            )\n",
    "    elif kind == \"on_chain_end\":\n",
    "        if (\n",
    "            event[\"name\"] == \"Agent\"\n",
    "        ):  # 에이전트를 `.with_config({\"run_name\": \"Agent\"})`로 생성할 때 지정됨\n",
    "            print()\n",
    "            print(\"--\")\n",
    "            print(\n",
    "                f\"Done agent: {event['name']} with output: {event['data'].get('output')['output']}\"\n",
    "            )\n",
    "    if kind == \"on_chat_model_stream\":\n",
    "        content = event[\"data\"][\"chunk\"].content\n",
    "        if content:\n",
    "            # OpenAI의 문맥에서 비어 있는 내용은\n",
    "            # 모델이 호출할 도구를 요청하고 있음을 의미합니다.\n",
    "            # 따라서 빈 내용이 아닌 내용만 인쇄합니다.\n",
    "            print(content, end=\"|\")\n",
    "    elif kind == \"on_tool_start\":\n",
    "        print(\"--\")\n",
    "        print(\n",
    "            f\"Starting tool: {event['name']} with inputs: {event['data'].get('input')}\"\n",
    "        )\n",
    "    elif kind == \"on_tool_end\":\n",
    "        print(f\"Done tool: {event['name']}\")\n",
    "        print(f\"Tool output was: {event['data'].get('output')}\")\n",
    "        print(\"--\")"
   ]
  },
  {
   "cell_type": "markdown",
   "metadata": {},
   "source": [
    "## 메모리 추가\n",
    "지금까지 구현 한 내용으로는 이전 대화를 기억하지 않기 때문에 자연스러운 대화가 이어질 수 없다.\n",
    "\n",
    "메모리를 제공하기 위해 체크포인터를 전달한다.\n",
    "\n",
    "`thread_id`를 전달하여 이어지는 대화인지, 새로운 대화인지 구분한다."
   ]
  },
  {
   "cell_type": "code",
   "execution_count": 18,
   "metadata": {},
   "outputs": [],
   "source": [
    "from langgraph.checkpoint.sqlite import SqliteSaver\n",
    "\n",
    "memory = SqliteSaver.from_conn_string(\":memory:\")"
   ]
  },
  {
   "cell_type": "code",
   "execution_count": 19,
   "metadata": {},
   "outputs": [],
   "source": [
    "agent_executor = create_react_agent(model, tools, checkpointer=memory)\n",
    "\n",
    "config = {\"configurable\": {\"thread_id\": \"abc123\"}}"
   ]
  },
  {
   "cell_type": "code",
   "execution_count": 20,
   "metadata": {},
   "outputs": [
    {
     "name": "stdout",
     "output_type": "stream",
     "text": [
      "{'agent': {'messages': [AIMessage(content='Hello, Bob! How can I assist you today?', response_metadata={'token_usage': {'completion_tokens': 12, 'prompt_tokens': 83, 'total_tokens': 95}, 'model_name': 'gpt-4o', 'system_fingerprint': 'fp_f4e629d0a5', 'finish_reason': 'stop', 'logprobs': None}, id='run-b9273cb6-2ed6-46a5-982e-fbbb94a0d31a-0', usage_metadata={'input_tokens': 83, 'output_tokens': 12, 'total_tokens': 95})]}}\n",
      "----\n"
     ]
    }
   ],
   "source": [
    "for chunk in agent_executor.stream(\n",
    "    {\"messages\": [HumanMessage(content=\"hi im bob!\")]}, config\n",
    "):\n",
    "    print(chunk)\n",
    "    print(\"----\")"
   ]
  },
  {
   "cell_type": "code",
   "execution_count": 21,
   "metadata": {},
   "outputs": [
    {
     "name": "stdout",
     "output_type": "stream",
     "text": [
      "{'agent': {'messages': [AIMessage(content='Your name is Bob! How can I help you today?', response_metadata={'token_usage': {'completion_tokens': 13, 'prompt_tokens': 107, 'total_tokens': 120}, 'model_name': 'gpt-4o', 'system_fingerprint': 'fp_9cb5d38cf7', 'finish_reason': 'stop', 'logprobs': None}, id='run-90d90ef2-55e8-4173-8118-d8d2f09864ae-0', usage_metadata={'input_tokens': 107, 'output_tokens': 13, 'total_tokens': 120})]}}\n",
      "----\n"
     ]
    }
   ],
   "source": [
    "for chunk in agent_executor.stream(\n",
    "    {\"messages\": [HumanMessage(content=\"whats my name?\")]}, config\n",
    "):\n",
    "    print(chunk)\n",
    "    print(\"----\")"
   ]
  },
  {
   "cell_type": "markdown",
   "metadata": {},
   "source": [
    "새로운 대화를 시작할 때는 `thread_id`를 변경한다."
   ]
  },
  {
   "cell_type": "code",
   "execution_count": 22,
   "metadata": {},
   "outputs": [
    {
     "name": "stdout",
     "output_type": "stream",
     "text": [
      "{'agent': {'messages': [AIMessage(content=\"You haven't provided your name. Could you please tell me your name?\", response_metadata={'token_usage': {'completion_tokens': 15, 'prompt_tokens': 84, 'total_tokens': 99}, 'model_name': 'gpt-4o', 'system_fingerprint': 'fp_9cb5d38cf7', 'finish_reason': 'stop', 'logprobs': None}, id='run-13a12f24-69c2-4a3e-adc7-82e55ea5a212-0', usage_metadata={'input_tokens': 84, 'output_tokens': 15, 'total_tokens': 99})]}}\n",
      "----\n"
     ]
    }
   ],
   "source": [
    "config = {\"configurable\": {\"thread_id\": \"xyz123\"}}\n",
    "for chunk in agent_executor.stream(\n",
    "    {\"messages\": [HumanMessage(content=\"whats my name?\")]}, config\n",
    "):\n",
    "    print(chunk)\n",
    "    print(\"----\")"
   ]
  }
 ],
 "metadata": {
  "kernelspec": {
   "display_name": "Python 3",
   "language": "python",
   "name": "python3"
  },
  "language_info": {
   "codemirror_mode": {
    "name": "ipython",
    "version": 3
   },
   "file_extension": ".py",
   "mimetype": "text/x-python",
   "name": "python",
   "nbconvert_exporter": "python",
   "pygments_lexer": "ipython3",
   "version": "3.10.11"
  }
 },
 "nbformat": 4,
 "nbformat_minor": 2
}
