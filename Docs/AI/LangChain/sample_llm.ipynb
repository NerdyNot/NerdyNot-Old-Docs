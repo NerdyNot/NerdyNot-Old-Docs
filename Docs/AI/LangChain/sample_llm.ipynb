{
 "cells": [
  {
   "cell_type": "markdown",
   "metadata": {},
   "source": [
    "# 간단한 LLM 앱 구축\n",
    "이 문서에서는 간단한 LLM 앱을 만드는 방법을 기술한다.\n",
    "여기서 만드는 앱은 LLM을 활용하여 번역을 수행한다."
   ]
  },
  {
   "cell_type": "markdown",
   "metadata": {},
   "source": [
    "## 라이브러리 설치\n",
    "아래 명령어를 통해 LangChain 및 LLM을 사용하기 위한 라이브러리를 설치한다."
   ]
  },
  {
   "cell_type": "code",
   "execution_count": 1,
   "metadata": {},
   "outputs": [],
   "source": [
    "!pip install langchain langchain-openai"
   ]
  },
  {
   "cell_type": "markdown",
   "metadata": {},
   "source": [
    "## LangSmith 연동\n",
    "흐름을 분석을 위해 아래 변수 설정으로 LangSmith와 연동한다."
   ]
  },
  {
   "cell_type": "code",
   "execution_count": null,
   "metadata": {},
   "outputs": [],
   "source": [
    "import os\n",
    "\n",
    "os.environ[\"LANGCHAIN_TRACING_V2\"] = \"true\"\n",
    "os.environ[\"LANGCHAIN_API_KEY\"] = \"Insert Your LangSmith API Key\""
   ]
  },
  {
   "cell_type": "markdown",
   "metadata": {},
   "source": [
    "## LLM 정의\n",
    "LLM을 사용하기 위해 라이브러리를 호출하고 인스턴스를 생성한다."
   ]
  },
  {
   "cell_type": "code",
   "execution_count": null,
   "metadata": {},
   "outputs": [],
   "source": [
    "from langchain_openai import ChatOpenAI\n",
    "\n",
    "os.environ[\"OPENAI_API_KEY\"] = \"Insert Your OpenAI API Key\"\n",
    "model = ChatOpenAI(model=\"gpt-4o\")"
   ]
  },
  {
   "cell_type": "markdown",
   "metadata": {},
   "source": [
    "단순히 모델을 호출하기 위해 메시지 목록을 `.invoke` 메서드에 전달한다."
   ]
  },
  {
   "cell_type": "code",
   "execution_count": null,
   "metadata": {},
   "outputs": [],
   "source": [
    "from langchain_core.messages import HumanMessage, SystemMessage\n",
    "\n",
    "messages = [\n",
    "    SystemMessage(content=\"Translate the following from English into Italian\"),\n",
    "    HumanMessage(content=\"hi!\"),\n",
    "]\n",
    "\n",
    "model.invoke(messages)"
   ]
  },
  {
   "cell_type": "markdown",
   "metadata": {},
   "source": [
    "## 출력 Parser\n",
    "모델의 응답은 `AIMessage`로 분류된다.\n",
    "\n",
    "이는 응답 문자열과 응답에 대한 다른 메타데이터를 포함한다.\n",
    "\n",
    "애플리케이션에서는 문자열 응답만을 다루고 싶기에 간단한 출력 파서를 사용하여 응답을 추출할 수 있다."
   ]
  },
  {
   "cell_type": "code",
   "execution_count": null,
   "metadata": {},
   "outputs": [],
   "source": [
    "from langchain_core.output_parsers import StrOutputParser\n",
    "\n",
    "parser = StrOutputParser()"
   ]
  },
  {
   "cell_type": "markdown",
   "metadata": {},
   "source": [
    "출력 Parser는 단독으로 사용 가능하다.\n",
    "\n",
    "언어 모델 호출 결과를 저장한 후 Parser에 전달하는 방식으로도 사용이 가능하다."
   ]
  },
  {
   "cell_type": "code",
   "execution_count": null,
   "metadata": {},
   "outputs": [],
   "source": [
    "result = model.invoke(messages)\n",
    "parser.invoke(result)"
   ]
  },
  {
   "cell_type": "markdown",
   "metadata": {},
   "source": [
    "또한 모델과 출력 Parser를 Chaining할 수 있다.\n",
    "\n",
    "Chain은 언어 모델의 입력 타입을 받고 출력 Parser의 출력 타입을 반환 한다."
   ]
  },
  {
   "cell_type": "code",
   "execution_count": null,
   "metadata": {},
   "outputs": [],
   "source": [
    "chain = model | parser\n",
    "chain.invoke(messages)"
   ]
  },
  {
   "cell_type": "markdown",
   "metadata": {},
   "source": [
    "## 프롬프트 템플릿\n",
    "\n",
    "프롬프트 템플릿은 LangChain에서 사용자의 입력 내용과 시스템 메시지 추가 혹은 입력 포맷팅 등의 변환을 돕기 위해 설계 된 개념이다.\n",
    "\n",
    "원시 사용자의 입력을 받아 언어 모델에 전달할 준비가 된 프롬프트를 반환한다.\n",
    "\n",
    "여기서 제시하는 프롬프트 템플릿은 두개의 사용자 변수를 받는다.\n",
    "\n",
    "- `language` : 번역할 언어\n",
    "- `text` : 번역할 텍스트"
   ]
  },
  {
   "cell_type": "code",
   "execution_count": null,
   "metadata": {},
   "outputs": [],
   "source": [
    "from langchain_core.prompts import ChatPromptTemplate\n",
    "\n",
    "system_template = \"Translate the following into {language}:\"\n",
    "prompt_template = ChatPromptTemplate.from_messages(\n",
    "    [(\"system\", system_template), (\"user\", \"{text}\")]\n",
    ")"
   ]
  },
  {
   "cell_type": "markdown",
   "metadata": {},
   "source": [
    "이 프롬프트 템플릿의 입력은 딕셔너리이다.\n",
    "\n",
    "프롬프트 템플릿이 단독으로 무엇을 하는지는 아래 코드를 통해 확인할 수 있다."
   ]
  },
  {
   "cell_type": "code",
   "execution_count": null,
   "metadata": {},
   "outputs": [],
   "source": [
    "result = prompt_template.invoke({\"language\": \"Korean\", \"text\": \"hi\"})\n",
    "result"
   ]
  },
  {
   "cell_type": "markdown",
   "metadata": {},
   "source": [
    "메시지에 대한 직접 접근은 아래 코드를 통해 가능하다."
   ]
  },
  {
   "cell_type": "code",
   "execution_count": null,
   "metadata": {},
   "outputs": [],
   "source": [
    "result.to_messages()"
   ]
  },
  {
   "cell_type": "markdown",
   "metadata": {},
   "source": [
    "세 가지 구성 요소를 Chaining 하는 코드는 아래와 같다."
   ]
  },
  {
   "cell_type": "code",
   "execution_count": null,
   "metadata": {},
   "outputs": [],
   "source": [
    "chain = prompt_template | model | parser\n",
    "chain.invoke({\"language\": \"Korean\", \"text\": \"hi\"})"
   ]
  }
 ],
 "metadata": {
  "kernelspec": {
   "display_name": "Python 3",
   "language": "python",
   "name": "python3"
  },
  "language_info": {
   "codemirror_mode": {
    "name": "ipython",
    "version": 3
   },
   "file_extension": ".py",
   "mimetype": "text/x-python",
   "name": "python",
   "nbconvert_exporter": "python",
   "pygments_lexer": "ipython3",
   "version": "3.10.11"
  }
 },
 "nbformat": 4,
 "nbformat_minor": 2
}
